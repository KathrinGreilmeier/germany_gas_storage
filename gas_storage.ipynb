{
 "cells": [
  {
   "cell_type": "markdown",
   "id": "eb23a61a-de6a-48e1-a023-e87279ed62e8",
   "metadata": {},
   "source": [
    "# Gas storage Germany "
   ]
  },
  {
   "cell_type": "markdown",
   "id": "b4d8dc28-cb11-4208-b58b-15f8d58da621",
   "metadata": {},
   "source": [
    "## Data collection and preparation"
   ]
  },
  {
   "cell_type": "code",
   "execution_count": 3,
   "id": "4cdef814-2d34-42da-bad9-8cf899574591",
   "metadata": {
    "tags": []
   },
   "outputs": [],
   "source": [
    "# Import libraries needed\n",
    "import pandas as pd\n",
    "import requests\n",
    "import numpy as np\n",
    "import ipywidgets as widgets\n",
    "import datetime as dt\n",
    "from datetime import datetime\n",
    "from pandas import json_normalize\n",
    "import matplotlib.pyplot as plt\n",
    "import seaborn as sns"
   ]
  },
  {
   "cell_type": "code",
   "execution_count": 5,
   "id": "ffabb45b-b7d4-4e9e-849d-122bb03f61cb",
   "metadata": {
    "tags": []
   },
   "outputs": [],
   "source": [
    "# Pull data using requests, normalize json \n",
    "r = requests.get('https://agsi.gie.eu/api/about?show=table')    \n",
    "df = json_normalize(r.json())"
   ]
  },
  {
   "cell_type": "code",
   "execution_count": 9,
   "id": "30b08732-495c-4c9e-b568-e5b5c56fbc46",
   "metadata": {
    "tags": []
   },
   "outputs": [],
   "source": [
    "# Keep only rows where country column equals Germany\n",
    "df_Germany= df[df['country'] == 'DE']\n",
    "\n",
    "# Turn the url column into a list to loop through it\n",
    "url = df_Germany['url'].to_list()"
   ]
  },
  {
   "cell_type": "code",
   "execution_count": 13,
   "id": "9f632002-2f66-4b3a-9d99-ee79b9cc79bc",
   "metadata": {
    "tags": []
   },
   "outputs": [],
   "source": [
    "# Create a list to append data for each itteration of the loop\n",
    "data=[]\n",
    "\n",
    "# Variables for API (key,date_from,size_of_pages):\n",
    "headers = {\"x-key\": \"ENTER-INDIVIDUAL-KEY\"}\n",
    "fromdate = '2018-01-01'\n",
    "size= 300"
   ]
  },
  {
   "cell_type": "code",
   "execution_count": 15,
   "id": "e08540ee-b3c3-431d-8cb6-a9a5cbe4d568",
   "metadata": {
    "tags": []
   },
   "outputs": [
    {
     "name": "stdout",
     "output_type": "stream",
     "text": [
      "               name              code      publication_link  \\\n",
      "0  astora (Germany)  21X000000001160J  http://www.astora.de   \n",
      "1  astora (Germany)  21X000000001160J  http://www.astora.de   \n",
      "2  astora (Germany)  21X000000001160J  http://www.astora.de   \n",
      "3  astora (Germany)  21X000000001160J  http://www.astora.de   \n",
      "4  astora (Germany)  21X000000001160J  http://www.astora.de   \n",
      "\n",
      "                            transparency_template                  url  \\\n",
      "0  https://www.astora.de/en/transparency-template  21X000000001160J/DE   \n",
      "1  https://www.astora.de/en/transparency-template  21X000000001160J/DE   \n",
      "2  https://www.astora.de/en/transparency-template  21X000000001160J/DE   \n",
      "3  https://www.astora.de/en/transparency-template  21X000000001160J/DE   \n",
      "4  https://www.astora.de/en/transparency-template  21X000000001160J/DE   \n",
      "\n",
      "             updatedAt gasDayStart gasInStorage injection withdrawal  ...  \\\n",
      "0  2024-05-03 06:21:05  2024-05-02      29.6526    256.37        6.7  ...   \n",
      "1  2024-05-02 06:04:35  2024-05-01      29.4029    279.06        1.9  ...   \n",
      "2  2024-05-01 06:05:26  2024-04-30      29.1257    194.65        2.5  ...   \n",
      "3  2024-04-30 06:03:43  2024-04-29      28.9335    149.49        1.5  ...   \n",
      "4  2024-04-29 06:04:01  2024-04-28      28.7855    208.79        3.5  ...   \n",
      "\n",
      "  contractedCapacity availableCapacity status trend   full info longitude  \\\n",
      "0            52.7104                 0      C  0.47  56.26   []       NaN   \n",
      "1            52.7104                 0      C  0.53  55.78   []       NaN   \n",
      "2            52.7104                 0      C  0.36  55.26   []       NaN   \n",
      "3            52.7104                 0      C  0.28  54.89   []       NaN   \n",
      "4            52.7104                 0      C  0.39  54.61   []       NaN   \n",
      "\n",
      "  latitude type   0  \n",
      "0      NaN  NaN NaN  \n",
      "1      NaN  NaN NaN  \n",
      "2      NaN  NaN NaN  \n",
      "3      NaN  NaN NaN  \n",
      "4      NaN  NaN NaN  \n",
      "\n",
      "[5 rows x 24 columns]\n"
     ]
    }
   ],
   "source": [
    "# Create for loop that requests the url and extracts the data from the JSON\n",
    "# In the loop add a for loop to go through each page available in the response\n",
    "for x in url:\n",
    "    r = requests.get(x,params={\"from\": fromdate,\"size\":size}, headers=headers).json()\n",
    "    for page in range(0,r[\"last_page\"]):\n",
    "        api = requests.get(x,params={\"from\": fromdate,\"size\": size,\"page\":{page}}, headers=headers)\n",
    "        df = json_normalize(api.json())\n",
    "        j=df[\"data\"]\n",
    "        jd=j.explode('data')\n",
    "        jd_final=pd.DataFrame(jd.apply(pd.Series))\n",
    "        data.append(jd_final)\n",
    "\n",
    "# Concatenate the data into one dataframe and print head to check\n",
    "storage_Germany= pd.concat(data)\n",
    "print(storage_Germany.head())"
   ]
  },
  {
   "cell_type": "code",
   "execution_count": 16,
   "id": "d474e4ff-9d58-4d57-aa11-693c4fd8fe27",
   "metadata": {
    "tags": []
   },
   "outputs": [
    {
     "name": "stdout",
     "output_type": "stream",
     "text": [
      "Column names: Index([                 'name',                  'code',\n",
      "            'publication_link', 'transparency_template',\n",
      "                         'url',             'updatedAt',\n",
      "                 'gasDayStart',          'gasInStorage',\n",
      "                   'injection',            'withdrawal',\n",
      "               'netWithdrawal',      'workingGasVolume',\n",
      "           'injectionCapacity',    'withdrawalCapacity',\n",
      "          'contractedCapacity',     'availableCapacity',\n",
      "                      'status',                 'trend',\n",
      "                        'full',                  'info',\n",
      "                   'longitude',              'latitude',\n",
      "                        'type',                       0],\n",
      "      dtype='object')\n",
      "Column names (as list): ['name', 'code', 'publication_link', 'transparency_template', 'url', 'updatedAt', 'gasDayStart', 'gasInStorage', 'injection', 'withdrawal', 'netWithdrawal', 'workingGasVolume', 'injectionCapacity', 'withdrawalCapacity', 'contractedCapacity', 'availableCapacity', 'status', 'trend', 'full', 'info', 'longitude', 'latitude', 'type', 0]\n"
     ]
    }
   ],
   "source": [
    "# Print the column names as an index object \n",
    "print(\"Column names:\", storage_Germany.columns)  \n",
    "\n",
    "# Print the column names as a list\n",
    "print(\"Column names (as list):\", storage_Germany.columns.tolist())"
   ]
  },
  {
   "cell_type": "code",
   "execution_count": 17,
   "id": "36d05a05-967f-4341-91c7-16c060d850c2",
   "metadata": {
    "tags": []
   },
   "outputs": [
    {
     "name": "stdout",
     "output_type": "stream",
     "text": [
      "Data with relevant columns:\n",
      "                   name gasDayStart gasInStorage injection withdrawal  \\\n",
      "0      astora (Germany)  2024-05-02      29.6526    256.37        6.7   \n",
      "1      astora (Germany)  2024-05-01      29.4029    279.06        1.9   \n",
      "2      astora (Germany)  2024-04-30      29.1257    194.65        2.5   \n",
      "3      astora (Germany)  2024-04-29      28.9335    149.49        1.5   \n",
      "4      astora (Germany)  2024-04-28      28.7855    208.79        3.5   \n",
      "..                  ...         ...          ...       ...        ...   \n",
      "295  UGS Jemgum H (VGS)  2018-08-07            -         -          -   \n",
      "296  UGS Jemgum H (VGS)  2018-08-06            -         -          -   \n",
      "297  UGS Jemgum H (VGS)  2018-08-05            -         -          -   \n",
      "298  UGS Jemgum H (VGS)  2018-08-04            -         -          -   \n",
      "299  UGS Jemgum H (VGS)  2018-08-03            -         -          -   \n",
      "\n",
      "    netWithdrawal workingGasVolume injectionCapacity withdrawalCapacity  \\\n",
      "0          -249.7          52.7104            489.96              753.6   \n",
      "1          -277.2          52.7104            489.96              753.6   \n",
      "2          -192.2          52.7104            489.96              753.6   \n",
      "3          -147.9          52.7104            489.96              753.6   \n",
      "4          -205.3          52.7104            489.96              753.6   \n",
      "..            ...              ...               ...                ...   \n",
      "295             -                -                 -                  -   \n",
      "296             -                -                 -                  -   \n",
      "297             -                -                 -                  -   \n",
      "298             -                -                 -                  -   \n",
      "299             -                -                 -                  -   \n",
      "\n",
      "    contractedCapacity availableCapacity trend   full  \n",
      "0              52.7104                 0  0.47  56.26  \n",
      "1              52.7104                 0  0.53  55.78  \n",
      "2              52.7104                 0  0.36  55.26  \n",
      "3              52.7104                 0  0.28  54.89  \n",
      "4              52.7104                 0  0.39  54.61  \n",
      "..                 ...               ...   ...    ...  \n",
      "295                  -                 -     -      -  \n",
      "296                  -                 -     -      -  \n",
      "297                  -                 -     -      -  \n",
      "298                  -                 -     -      -  \n",
      "299                  -                 -     -      -  \n",
      "\n",
      "[208210 rows x 13 columns]\n"
     ]
    }
   ],
   "source": [
    "# List of columns to keep\n",
    "columns_to_keep = ['name', 'gasDayStart', 'gasInStorage', 'injection', 'withdrawal', 'netWithdrawal', 'workingGasVolume', 'injectionCapacity', 'withdrawalCapacity', 'contractedCapacity', 'availableCapacity', 'trend', 'full']\n",
    "\n",
    "# Select only the relevant columns\n",
    "storage_Germany = storage_Germany[columns_to_keep]\n",
    "\n",
    "print(\"Data with relevant columns:\")\n",
    "print(storage_Germany)"
   ]
  },
  {
   "cell_type": "markdown",
   "id": "4bc29fcc-95a5-47bf-9bd9-1b77a3f17697",
   "metadata": {},
   "source": [
    "## Deep Dive: Astora Storage"
   ]
  },
  {
   "cell_type": "markdown",
   "id": "32631793-21bc-4bb1-b729-abd3c491a53c",
   "metadata": {},
   "source": [
    "Astora operates significant gas storage facilities in Germany. The largest and most notable is the Rehden gas storage facility in Lower Saxony, which is among the largest in Western Europe, with a working gas capacity of around 4 billion cubic meters (bcm)."
   ]
  },
  {
   "cell_type": "code",
   "execution_count": 23,
   "id": "d72c793d-9bd7-4b4b-a22d-cb3e1f81a02f",
   "metadata": {
    "tags": []
   },
   "outputs": [
    {
     "name": "stdout",
     "output_type": "stream",
     "text": [
      "                 name gasDayStart gasInStorage injection withdrawal  \\\n",
      "0    astora (Germany)  2024-05-02      29.6526    256.37        6.7   \n",
      "1    astora (Germany)  2024-05-01      29.4029    279.06        1.9   \n",
      "2    astora (Germany)  2024-04-30      29.1257    194.65        2.5   \n",
      "3    astora (Germany)  2024-04-29      28.9335    149.49        1.5   \n",
      "4    astora (Germany)  2024-04-28      28.7855    208.79        3.5   \n",
      "..                ...         ...          ...       ...        ...   \n",
      "295  astora (Germany)  2018-08-07      42.7198    133.61          0   \n",
      "296  astora (Germany)  2018-08-06      42.5786     181.2          0   \n",
      "297  astora (Germany)  2018-08-05      42.3895    251.33          0   \n",
      "298  astora (Germany)  2018-08-04      42.1304    241.89          0   \n",
      "299  astora (Germany)  2018-08-03        41.88    191.78          0   \n",
      "\n",
      "    netWithdrawal workingGasVolume injectionCapacity withdrawalCapacity  \\\n",
      "0          -249.7          52.7104            489.96              753.6   \n",
      "1          -277.2          52.7104            489.96              753.6   \n",
      "2          -192.2          52.7104            489.96              753.6   \n",
      "3          -147.9          52.7104            489.96              753.6   \n",
      "4          -205.3          52.7104            489.96              753.6   \n",
      "..            ...              ...               ...                ...   \n",
      "295        -133.6          55.4846            444.66             637.66   \n",
      "296        -181.2          55.4846            444.66             637.66   \n",
      "297        -251.3          55.4846            444.66             637.66   \n",
      "298        -241.9          55.4846            444.66             637.66   \n",
      "299        -191.8          55.4846            444.66             637.66   \n",
      "\n",
      "    contractedCapacity availableCapacity trend   full  \n",
      "0              52.7104                 0  0.47  56.26  \n",
      "1              52.7104                 0  0.53  55.78  \n",
      "2              52.7104                 0  0.36  55.26  \n",
      "3              52.7104                 0  0.28  54.89  \n",
      "4              52.7104                 0  0.39  54.61  \n",
      "..                 ...               ...   ...    ...  \n",
      "295                  -                 -  0.25  76.99  \n",
      "296                  -                 -  0.34  76.74  \n",
      "297                  -                 -  0.47   76.4  \n",
      "298                  -                 -  0.45  75.93  \n",
      "299                  -                 -  0.36  75.48  \n",
      "\n",
      "[2400 rows x 13 columns]\n"
     ]
    }
   ],
   "source": [
    "# Filter to receive only the information on the astora storage \n",
    "astora_data = storage_Germany[storage_Germany['name'] == 'astora (Germany)']\n",
    "\n",
    "print(astora_data)"
   ]
  },
  {
   "cell_type": "code",
   "execution_count": 25,
   "id": "841e5088-1740-4384-9b4e-79df88d2c958",
   "metadata": {
    "tags": []
   },
   "outputs": [
    {
     "name": "stdout",
     "output_type": "stream",
     "text": [
      "Year       2018   2019   2020   2021   2022   2023   2024\n",
      "Month Day                                                \n",
      "1     1     NaN  77.10  97.59  64.57  15.96  90.87  82.17\n",
      "      2     NaN  76.93  97.56  63.69  16.20  90.98  81.71\n",
      "      3     NaN  76.30  97.49  62.83  16.31  90.99  81.10\n",
      "      4     NaN  75.97  97.49  61.64  16.45  91.04  80.41\n",
      "      5     NaN  75.97  97.51  60.37  16.28  91.11  79.71\n",
      "...         ...    ...    ...    ...    ...    ...    ...\n",
      "4     5     NaN  45.02  91.64   9.66   2.81  78.39  52.95\n",
      "      6     NaN  45.41  91.68   9.62   2.86  78.40  53.59\n",
      "      7     NaN  45.94  91.72   9.50   2.89  78.45  54.29\n",
      "      8     NaN  46.32  91.79   9.49   2.85  78.58  54.67\n",
      "      9     NaN  46.39  91.86   9.27   2.89  78.81  55.02\n",
      "\n",
      "[100 rows x 7 columns]\n"
     ]
    }
   ],
   "source": [
    "# Ensure 'gasDayStart' is in datetime format\n",
    "astora_data = astora_data.copy()  # Make a copy to avoid warnings\n",
    "astora_data['gasDayStart'] = pd.to_datetime(astora_data['gasDayStart'])\n",
    "\n",
    "# Convert 'full' to numeric, setting errors='coerce' to handle non-numeric data\n",
    "astora_data['full'] = pd.to_numeric(astora_data['full'], errors='coerce')\n",
    "\n",
    "# Split 'gasDayStart' into 'Day', 'Month', and 'Year'\n",
    "astora_data['Day'] = astora_data['gasDayStart'].dt.day\n",
    "astora_data['Month'] = astora_data['gasDayStart'].dt.month\n",
    "astora_data['Year'] = astora_data['gasDayStart'].dt.year\n",
    "\n",
    "# Drop rows with NaN values in 'full'\n",
    "astora_data_cleaned = astora_data.dropna(subset=['full'])\n",
    "\n",
    "# Sort by 'Month' first, then 'Day'\n",
    "astora_data_sorted = astora_data_cleaned.sort_values(by=['Month', 'Day'])\n",
    "\n",
    "# Create the pivot table with 'Month' and 'Day' as the index, 'Year' as the columns, and 'full' as the values\n",
    "pivot_table = astora_data_sorted.pivot_table(\n",
    "    index=['Month', 'Day'],  # Use 'Month' and 'Day' as the multi-index for rows\n",
    "    columns='Year',  # Use 'Year' for the columns\n",
    "    values='full',  # Show the 'full' values\n",
    "    aggfunc='mean'  # Aggregation function\n",
    ")\n",
    "\n",
    "# Reset the index to ensure 'Month' is visible\n",
    "pivot_table_reset = pivot_table.reset_index()\n",
    "pivot_table_with_month = pivot_table_reset.set_index(['Month', 'Day'])\n",
    "\n",
    "# Display the pivot table with 'Month' in each row\n",
    "print(pivot_table_with_month.head(100))  # Output the pivot table to inspect"
   ]
  },
  {
   "cell_type": "code",
   "execution_count": 27,
   "id": "4e662be2-7382-4f77-92ed-d8b93b5514f6",
   "metadata": {
    "tags": []
   },
   "outputs": [
    {
     "name": "stdout",
     "output_type": "stream",
     "text": [
      "name                          object\n",
      "gasDayStart           datetime64[ns]\n",
      "gasInStorage                  object\n",
      "injection                     object\n",
      "withdrawal                    object\n",
      "netWithdrawal                 object\n",
      "workingGasVolume              object\n",
      "injectionCapacity             object\n",
      "withdrawalCapacity            object\n",
      "contractedCapacity            object\n",
      "availableCapacity             object\n",
      "trend                         object\n",
      "full                         float64\n",
      "Day                            int32\n",
      "Month                          int32\n",
      "Year                           int32\n",
      "dtype: object\n"
     ]
    }
   ],
   "source": [
    "# Ensure 'gasDayStart' is in datetime format\n",
    "astora_data = astora_data.copy()  # Create a copy to avoid warnings\n",
    "astora_data['gasDayStart'] = pd.to_datetime(astora_data['gasDayStart'])  # Convert to datetime\n",
    "\n",
    "print(astora_data.dtypes)"
   ]
  },
  {
   "cell_type": "code",
   "execution_count": 28,
   "id": "5595e6db-2afb-4d6b-a21a-a6d02bc5ed8b",
   "metadata": {
    "tags": []
   },
   "outputs": [
    {
     "name": "stdout",
     "output_type": "stream",
     "text": [
      "               name gasDayStart gasInStorage injection withdrawal  \\\n",
      "0  astora (Germany)  2024-05-02      29.6526    256.37        6.7   \n",
      "1  astora (Germany)  2024-05-01      29.4029    279.06        1.9   \n",
      "2  astora (Germany)  2024-04-30      29.1257    194.65        2.5   \n",
      "3  astora (Germany)  2024-04-29      28.9335    149.49        1.5   \n",
      "4  astora (Germany)  2024-04-28      28.7855    208.79        3.5   \n",
      "\n",
      "  netWithdrawal workingGasVolume injectionCapacity withdrawalCapacity  \\\n",
      "0        -249.7          52.7104            489.96              753.6   \n",
      "1        -277.2          52.7104            489.96              753.6   \n",
      "2        -192.2          52.7104            489.96              753.6   \n",
      "3        -147.9          52.7104            489.96              753.6   \n",
      "4        -205.3          52.7104            489.96              753.6   \n",
      "\n",
      "  contractedCapacity availableCapacity trend   full  Day  Month  Year  \n",
      "0            52.7104                 0  0.47  56.26    2      5  2024  \n",
      "1            52.7104                 0  0.53  55.78    1      5  2024  \n",
      "2            52.7104                 0  0.36  55.26   30      4  2024  \n",
      "3            52.7104                 0  0.28  54.89   29      4  2024  \n",
      "4            52.7104                 0  0.39  54.61   28      4  2024  \n"
     ]
    }
   ],
   "source": [
    "# Split 'gasDayStart' into 'Day', 'Month', and 'Year'\n",
    "astora_data['Day'] = astora_data['gasDayStart'].dt.day\n",
    "astora_data['Month'] = astora_data['gasDayStart'].dt.month\n",
    "astora_data['Year'] = astora_data['gasDayStart'].dt.year\n",
    "\n",
    "print(astora_data.head(5))"
   ]
  },
  {
   "cell_type": "code",
   "execution_count": 29,
   "id": "cb7eb591-bb8f-424c-9144-5e1e08d165e2",
   "metadata": {
    "tags": []
   },
   "outputs": [
    {
     "name": "stdout",
     "output_type": "stream",
     "text": [
      "                 name gasDayStart gasInStorage injection withdrawal  \\\n",
      "122  astora (Germany)  2024-01-01      45.3058     26.35      196.8   \n",
      "122  astora (Germany)  2024-01-01      45.3058     26.35      196.8   \n",
      "187  astora (Germany)  2023-01-01      47.0773     41.98          0   \n",
      "252  astora (Germany)  2022-01-01       8.2828    240.74        0.5   \n",
      "17   astora (Germany)  2021-01-01      34.0951         0      424.3   \n",
      "\n",
      "    netWithdrawal workingGasVolume injectionCapacity withdrawalCapacity  \\\n",
      "122         170.5          55.1399             489.9             753.51   \n",
      "122         170.5          55.1399             489.9             753.51   \n",
      "187           -42           51.805            480.89             739.65   \n",
      "252        -240.2          51.8871            480.89             739.65   \n",
      "17          424.3          52.8026            480.89             739.65   \n",
      "\n",
      "    contractedCapacity availableCapacity trend   full  Day  Month  Year  \n",
      "122            55.1399                 0     0  82.17    1      1  2024  \n",
      "122            55.1399                 0     0  82.17    1      1  2024  \n",
      "187                  -                 -     0  90.87    1      1  2023  \n",
      "252                  -                 -     0  15.96    1      1  2022  \n",
      "17                   -                 -     0  64.57    1      1  2021  \n"
     ]
    }
   ],
   "source": [
    "# Sort by 'Month' first, then 'Day'\n",
    "astora_data_sorted = astora_data.sort_values(by=['Month', 'Day'])\n",
    "\n",
    "print(astora_data_sorted.head(5))"
   ]
  },
  {
   "cell_type": "code",
   "execution_count": 33,
   "id": "b71dfdaf-a33b-4012-999a-5887c7e12760",
   "metadata": {
    "tags": []
   },
   "outputs": [
    {
     "name": "stdout",
     "output_type": "stream",
     "text": [
      "Year       2018   2019   2020   2021   2022   2023   2024\n",
      "Month Day                                                \n",
      "1     1     NaN  77.10  97.59  64.57  15.96  90.87  82.17\n",
      "      2     NaN  76.93  97.56  63.69  16.20  90.98  81.71\n",
      "      3     NaN  76.30  97.49  62.83  16.31  90.99  81.10\n",
      "      4     NaN  75.97  97.49  61.64  16.45  91.04  80.41\n",
      "      5     NaN  75.97  97.51  60.37  16.28  91.11  79.71\n",
      "      6     NaN  75.94  97.49  59.09  16.10  91.28  79.01\n",
      "      7     NaN  75.74  97.51  57.84  16.07  91.33  78.19\n",
      "      8     NaN  75.74  97.53  56.53  16.09  91.37  77.22\n",
      "      9     NaN  75.58  97.50  55.22  16.10  91.34  76.22\n",
      "      10    NaN  75.14  97.49  53.97  15.95  91.35  75.18\n",
      "      11    NaN  74.92  97.37  52.84  15.56  91.29  74.19\n",
      "      12    NaN  74.78  97.29  51.76  15.15  91.27  73.34\n",
      "      13    NaN  74.65  97.21  50.67  14.75  91.30  72.54\n",
      "      14    NaN  74.11  97.17  49.41  14.36  91.35  71.77\n",
      "      15    NaN  73.61  97.20  48.21  14.09  91.39  70.91\n",
      "      16    NaN  73.17  97.21  47.00  13.84  91.32  70.00\n",
      "      17    NaN  72.72  97.20  45.87  13.45  91.25  69.12\n",
      "      18    NaN  72.05  97.17  44.74  13.15  91.20  68.22\n",
      "      19    NaN  71.58  97.12  43.70  12.84  91.15  67.34\n",
      "      20    NaN  71.02  97.05  42.73  12.55  91.07  66.59\n",
      "      21    NaN  70.22  96.93  41.80  12.21  90.97  65.91\n",
      "      22    NaN  69.49  96.85  40.85  11.84  90.86  65.24\n",
      "      23    NaN  68.56  96.74  39.90  11.49  90.71  64.56\n",
      "      24    NaN  67.65  96.66  38.91  11.12  90.49  63.94\n",
      "      25    NaN  66.85  96.57  37.92  10.71  90.36  63.34\n",
      "      26    NaN  66.44  96.54  36.93  10.30  90.22  62.83\n",
      "      27    NaN  66.10  96.48  35.92  10.14  90.07  62.26\n",
      "      28    NaN  65.39  96.47  35.06   9.83  90.03  61.65\n",
      "      29    NaN  64.45  96.42  34.27   9.78  90.01  61.08\n",
      "      30    NaN  63.54  96.43  33.47   9.73  89.99  60.46\n",
      "      31    NaN  62.47  96.44  32.67   9.55  89.95  59.85\n",
      "2     1     NaN  61.72  96.48  31.92   9.44  89.93  59.25\n",
      "      2     NaN  61.04  96.55  31.54   9.42  89.88  58.70\n",
      "      3     NaN  60.38  96.57  31.36   9.42  89.88  58.33\n",
      "      4     NaN  59.56  96.45  31.04   9.38  89.71  57.91\n",
      "      5     NaN  58.68  96.23  30.63   9.40  89.51  57.41\n",
      "      6     NaN  58.11  95.73  30.21   9.41  89.29  56.90\n",
      "      7     NaN  57.92  95.56  29.80   9.37  88.98  56.33\n",
      "      8     NaN  57.57  95.49  29.19   9.39  88.70  55.73\n",
      "      9     NaN  57.39  95.52  28.38   9.29  88.45  55.09\n",
      "      10    NaN  57.24  95.47  27.64   9.31  88.17  54.56\n",
      "      11    NaN  56.63  95.35  26.89   9.32  87.95  53.92\n",
      "      12    NaN  55.93  95.20  26.29   9.26  87.76  53.27\n",
      "      13    NaN  55.39  95.07  25.86   9.30  87.49  52.53\n",
      "      14    NaN  55.03  95.04  25.54   9.34  87.20  52.09\n",
      "      15    NaN  54.82  95.04  24.98   9.31  86.95  51.98\n",
      "      16    NaN  54.79  95.05  24.68   9.30  86.76  52.04\n",
      "      17    NaN  54.75  95.02  24.29   9.33  86.61  52.22\n",
      "      18    NaN  54.62  95.01  24.13   9.34  86.67  52.36\n",
      "      19    NaN  54.34  94.95  23.92   9.31  86.67  52.17\n",
      "      20    NaN  54.13  94.79  23.43   9.29  86.44  51.95\n",
      "      21    NaN  40.03  94.65  22.92   9.24  86.21  51.70\n",
      "      22    NaN  39.71  94.67  22.39   9.21  85.97  51.37\n",
      "      23    NaN  39.41  94.69  21.92   9.18  85.71  51.02\n",
      "      24    NaN  39.14  94.59  21.47   9.20  85.55  50.70\n",
      "      25    NaN  38.79  94.46  21.00   9.11  85.32  50.40\n",
      "      26    NaN  38.74  94.34  20.71   9.03  85.09  50.06\n",
      "      27    NaN  38.71  94.07  20.61   8.98  84.71  49.79\n",
      "      28    NaN  38.61  93.95  20.51   8.78  84.20  49.62\n",
      "      29    NaN    NaN  93.99    NaN    NaN    NaN  49.59\n"
     ]
    }
   ],
   "source": [
    "# Create a pivot table with 'Month' and 'Day' as the index, 'Year' as the columns, and 'full' as the values\n",
    "pivot_table = astora_data_sorted.pivot_table(\n",
    "    index=['Month', 'Day'],  # Use 'Month' and 'Day' as the multi-index for rows\n",
    "    columns='Year',  # Use 'Year' for the columns\n",
    "    values='full',  # Show the 'full' values\n",
    "    aggfunc='mean'  # Aggregation function\n",
    ")\n",
    "\n",
    "print(pivot_table.head(60))"
   ]
  },
  {
   "cell_type": "code",
   "execution_count": 34,
   "id": "c7c25c91-e3c7-403f-845b-ab8003fd9301",
   "metadata": {
    "tags": []
   },
   "outputs": [
    {
     "name": "stdout",
     "output_type": "stream",
     "text": [
      "Year       2018   2019   2020    2021   2022    2023   2024\n",
      "Month Day                                                  \n",
      "1     1     NaN  77.10  97.59  64.570  15.96  90.870  82.17\n",
      "      2     NaN  76.93  97.56  63.690  16.20  90.980  81.71\n",
      "      3     NaN  76.30  97.49  62.830  16.31  90.990  81.10\n",
      "      4     NaN  75.97  97.49  61.640  16.45  91.040  80.41\n",
      "      5     NaN  75.97  97.51  60.370  16.28  91.110  79.71\n",
      "      6     NaN  75.94  97.49  59.090  16.10  91.280  79.01\n",
      "      7     NaN  75.74  97.51  57.840  16.07  91.330  78.19\n",
      "      8     NaN  75.74  97.53  56.530  16.09  91.370  77.22\n",
      "      9     NaN  75.58  97.50  55.220  16.10  91.340  76.22\n",
      "      10    NaN  75.14  97.49  53.970  15.95  91.350  75.18\n",
      "      11    NaN  74.92  97.37  52.840  15.56  91.290  74.19\n",
      "      12    NaN  74.78  97.29  51.760  15.15  91.270  73.34\n",
      "      13    NaN  74.65  97.21  50.670  14.75  91.300  72.54\n",
      "      14    NaN  74.11  97.17  49.410  14.36  91.350  71.77\n",
      "      15    NaN  73.61  97.20  48.210  14.09  91.390  70.91\n",
      "      16    NaN  73.17  97.21  47.000  13.84  91.320  70.00\n",
      "      17    NaN  72.72  97.20  45.870  13.45  91.250  69.12\n",
      "      18    NaN  72.05  97.17  44.740  13.15  91.200  68.22\n",
      "      19    NaN  71.58  97.12  43.700  12.84  91.150  67.34\n",
      "      20    NaN  71.02  97.05  42.730  12.55  91.070  66.59\n",
      "      21    NaN  70.22  96.93  41.800  12.21  90.970  65.91\n",
      "      22    NaN  69.49  96.85  40.850  11.84  90.860  65.24\n",
      "      23    NaN  68.56  96.74  39.900  11.49  90.710  64.56\n",
      "      24    NaN  67.65  96.66  38.910  11.12  90.490  63.94\n",
      "      25    NaN  66.85  96.57  37.920  10.71  90.360  63.34\n",
      "      26    NaN  66.44  96.54  36.930  10.30  90.220  62.83\n",
      "      27    NaN  66.10  96.48  35.920  10.14  90.070  62.26\n",
      "      28    NaN  65.39  96.47  35.060   9.83  90.030  61.65\n",
      "      29    NaN  64.45  96.42  34.270   9.78  90.010  61.08\n",
      "      30    NaN  63.54  96.43  33.470   9.73  89.990  60.46\n",
      "      31    NaN  62.47  96.44  32.670   9.55  89.950  59.85\n",
      "2     1     NaN  61.72  96.48  31.920   9.44  89.930  59.25\n",
      "      2     NaN  61.04  96.55  31.540   9.42  89.880  58.70\n",
      "      3     NaN  60.38  96.57  31.360   9.42  89.880  58.33\n",
      "      4     NaN  59.56  96.45  31.040   9.38  89.710  57.91\n",
      "      5     NaN  58.68  96.23  30.630   9.40  89.510  57.41\n",
      "      6     NaN  58.11  95.73  30.210   9.41  89.290  56.90\n",
      "      7     NaN  57.92  95.56  29.800   9.37  88.980  56.33\n",
      "      8     NaN  57.57  95.49  29.190   9.39  88.700  55.73\n",
      "      9     NaN  57.39  95.52  28.380   9.29  88.450  55.09\n",
      "      10    NaN  57.24  95.47  27.640   9.31  88.170  54.56\n",
      "      11    NaN  56.63  95.35  26.890   9.32  87.950  53.92\n",
      "      12    NaN  55.93  95.20  26.290   9.26  87.760  53.27\n",
      "      13    NaN  55.39  95.07  25.860   9.30  87.490  52.53\n",
      "      14    NaN  55.03  95.04  25.540   9.34  87.200  52.09\n",
      "      15    NaN  54.82  95.04  24.980   9.31  86.950  51.98\n",
      "      16    NaN  54.79  95.05  24.680   9.30  86.760  52.04\n",
      "      17    NaN  54.75  95.02  24.290   9.33  86.610  52.22\n",
      "      18    NaN  54.62  95.01  24.130   9.34  86.670  52.36\n",
      "      19    NaN  54.34  94.95  23.920   9.31  86.670  52.17\n",
      "      20    NaN  54.13  94.79  23.430   9.29  86.440  51.95\n",
      "      21    NaN  40.03  94.65  22.920   9.24  86.210  51.70\n",
      "      22    NaN  39.71  94.67  22.390   9.21  85.970  51.37\n",
      "      23    NaN  39.41  94.69  21.920   9.18  85.710  51.02\n",
      "      24    NaN  39.14  94.59  21.470   9.20  85.550  50.70\n",
      "      25    NaN  38.79  94.46  21.000   9.11  85.320  50.40\n",
      "      26    NaN  38.74  94.34  20.710   9.03  85.090  50.06\n",
      "      27    NaN  38.71  94.07  20.610   8.98  84.710  49.79\n",
      "      28    NaN  38.61  93.95  20.510   8.78  84.200  49.62\n",
      "      29    NaN  38.55  93.99  20.325   8.62  83.975  49.59\n"
     ]
    }
   ],
   "source": [
    "# Columns that need NaN value handling\n",
    "columns_to_fill = [2019,2020,2021,2022,2023]\n",
    "\n",
    "# For each column, interpolate the NaN values linearly\n",
    "for col in columns_to_fill:\n",
    "    pivot_table[col] = pivot_table[col].interpolate(method='linear', limit_direction='both')\n",
    "\n",
    "print(pivot_table.head(60))"
   ]
  },
  {
   "cell_type": "code",
   "execution_count": 35,
   "id": "5c3e4771-1e3b-4dc0-bada-7f87cdfcb005",
   "metadata": {
    "tags": []
   },
   "outputs": [
    {
     "name": "stdout",
     "output_type": "stream",
     "text": [
      "Existing columns: Index([2018, 2019, 2020, 2021, 2022, 2023, 2024], dtype='int32', name='Year')\n"
     ]
    }
   ],
   "source": [
    "# Display the existing columns in the pivot table\n",
    "print(\"Existing columns:\", pivot_table.columns)"
   ]
  },
  {
   "cell_type": "code",
   "execution_count": 36,
   "id": "86283821-e033-4412-881e-c1d4fb4d37c2",
   "metadata": {
    "tags": []
   },
   "outputs": [
    {
     "name": "stdout",
     "output_type": "stream",
     "text": [
      "Year       2018   2019   2020   2021   2022   2023   2024    MIN    MAX  \\\n",
      "Month Day                                                                 \n",
      "1     1     NaN  77.10  97.59  64.57  15.96  90.87  82.17  15.96  97.59   \n",
      "      2     NaN  76.93  97.56  63.69  16.20  90.98  81.71  16.20  97.56   \n",
      "      3     NaN  76.30  97.49  62.83  16.31  90.99  81.10  16.31  97.49   \n",
      "      4     NaN  75.97  97.49  61.64  16.45  91.04  80.41  16.45  97.49   \n",
      "      5     NaN  75.97  97.51  60.37  16.28  91.11  79.71  16.28  97.51   \n",
      "...         ...    ...    ...    ...    ...    ...    ...    ...    ...   \n",
      "3     1     NaN  38.49  93.39  20.14   8.46  83.75  49.51   8.46  93.39   \n",
      "      2     NaN  38.40  92.35  19.85   8.14  83.52  49.89   8.14  92.35   \n",
      "      3     NaN  38.35  92.21  19.51   7.69  83.27  50.33   7.69  92.21   \n",
      "      4     NaN  38.24  92.09  19.26   7.23  83.10  50.35   7.23  92.09   \n",
      "      5     NaN  38.26  91.99  19.02   6.81  82.92  50.22   6.81  91.99   \n",
      "\n",
      "Year          AVG  \n",
      "Month Day          \n",
      "1     1    69.218  \n",
      "      2    69.072  \n",
      "      3    68.784  \n",
      "      4    68.518  \n",
      "      5    68.248  \n",
      "...           ...  \n",
      "3     1    48.846  \n",
      "      2    48.452  \n",
      "      3    48.206  \n",
      "      4    47.984  \n",
      "      5    47.800  \n",
      "\n",
      "[65 rows x 10 columns]\n"
     ]
    }
   ],
   "source": [
    "# Given pivot table with 'Month' and 'Day' as index and years as columns\n",
    "# Create a copy of the pivot table to avoid potential copy errors\n",
    "pivot_table_with_extra_columns = pivot_table.copy()\n",
    "\n",
    "# Define the columns to consider for calculating MIN, MAX, and AVG\n",
    "target_columns = [2019,2020,2021,2022,2023]\n",
    "\n",
    "# Add a new column 'MIN' with the minimum value across specified years\n",
    "pivot_table_with_extra_columns['MIN'] = pivot_table_with_extra_columns[target_columns].min(axis=1, skipna=True)\n",
    "\n",
    "# Add a new column 'MAX' with the maximum value across specified years\n",
    "pivot_table_with_extra_columns['MAX'] = pivot_table_with_extra_columns[target_columns].max(axis=1, skipna=True)\n",
    "\n",
    "# Add a new column 'AVG' with the average value across specified years\n",
    "pivot_table_with_extra_columns['AVG'] = pivot_table_with_extra_columns[target_columns].mean(axis=1, skipna=True)\n",
    "\n",
    "# Display the updated pivot table to inspect the new columns\n",
    "print(pivot_table_with_extra_columns.head(65))  # Check the first 10 rows with the new columns"
   ]
  },
  {
   "cell_type": "code",
   "execution_count": 37,
   "id": "509fe8cc-db25-442a-b524-d01bc636d4eb",
   "metadata": {
    "tags": []
   },
   "outputs": [
    {
     "data": {
      "image/png": "[encoded data removed]",
      "text/plain": [
       "<Figure size 1200x600 with 1 Axes>"
      ]
     },
     "metadata": {},
     "output_type": "display_data"
    }
   ],
   "source": [
    "# Ensure the data frame has the 'DayMonth' column with month-day information\n",
    "pivot_table_with_extra_columns['DayMonth'] = pivot_table_with_extra_columns.index.to_series().apply(lambda x: f\"{x[0]:02d}-{x[1]:02d}\")\n",
    "\n",
    "# Create the plot\n",
    "plt.figure(figsize=(12, 6))  # Set figure size for better visibility\n",
    "\n",
    "# Plot the shaded area between 'MIN' and 'MAX'\n",
    "plt.fill_between(\n",
    "    pivot_table_with_extra_columns['DayMonth'],\n",
    "    pivot_table_with_extra_columns['MIN'],\n",
    "    pivot_table_with_extra_columns['MAX'],\n",
    "    color='lightgrey',\n",
    "    alpha=0.5,  # Transparency for shading\n",
    "    label='Range (MIN-MAX)'\n",
    ")\n",
    "\n",
    "# Plot the 'AVG' line\n",
    "plt.plot(\n",
    "    pivot_table_with_extra_columns['DayMonth'],\n",
    "    pivot_table_with_extra_columns['AVG'],\n",
    "    label='5-Year-Average',\n",
    "    color='b',\n",
    "    linestyle='-',\n",
    "    linewidth=2\n",
    ")\n",
    "\n",
    "# Plot lines for the years 2022, 2023, and 2024\n",
    "plt.plot(\n",
    "    pivot_table_with_extra_columns['DayMonth'],\n",
    "    pivot_table_with_extra_columns[2021],\n",
    "    label='2021',\n",
    "    color='y',\n",
    "    linestyle='-.',  # Dashed line\n",
    "    linewidth=1.5\n",
    ")\n",
    "plt.plot(\n",
    "    pivot_table_with_extra_columns['DayMonth'],\n",
    "    pivot_table_with_extra_columns[2022],\n",
    "    label='2022',\n",
    "    color='g',\n",
    "    linestyle='-.',  # Dashed line\n",
    "    linewidth=1.5\n",
    ")\n",
    "\n",
    "plt.plot(\n",
    "    pivot_table_with_extra_columns['DayMonth'],\n",
    "    pivot_table_with_extra_columns[2023],\n",
    "    label='2023',\n",
    "    color='r',\n",
    "    linestyle='-.',  # Dash-dot line\n",
    "    linewidth=1.5\n",
    ")\n",
    "\n",
    "plt.plot(\n",
    "    pivot_table_with_extra_columns['DayMonth'],\n",
    "    pivot_table_with_extra_columns[2024],\n",
    "    label='2024',\n",
    "    color='m',\n",
    "    linestyle='-.',\n",
    "    linewidth=1.5\n",
    ")\n",
    "\n",
    "# Set y-axis range and custom ticks\n",
    "plt.ylim(0, 100)  # Set the range from 0 to 100\n",
    "plt.yticks(range(0, 101, 10))  # Set y-ticks every 10 units\n",
    "\n",
    "# Adjust the x-axis to show only the month\n",
    "months = pivot_table_with_extra_columns.index.get_level_values(0).unique()  # Get unique months\n",
    "month_labels = [f\"{m:02d}\" for m in months]  # Format the month labels\n",
    "month_ticks = pivot_table_with_extra_columns[pivot_table_with_extra_columns.index.get_level_values(1) == 1]['DayMonth']  # Get the first day of each month for tick placement\n",
    "\n",
    "plt.xticks(month_ticks, month_labels, rotation=45, ha='right')  # Rotate x-axis labels for better visibility\n",
    "\n",
    "# Add labels, title, and grid\n",
    "plt.xlabel('Month')  # Label for the x-axis\n",
    "plt.ylabel('%')  # Label for the y-axis\n",
    "plt.title('Value Trends with Range by Month')  # Chart title\n",
    "plt.grid(axis='y')  # Only show horizontal grid lines\n",
    "\n",
    "# Add a legend\n",
    "plt.legend(loc='best')  # Position the legend at the best location\n",
    "\n",
    "# Show the chart\n",
    "plt.show()"
   ]
  },
  {
   "cell_type": "markdown",
   "id": "afd0c64b-5fcb-415b-915d-eadb3428e4c5",
   "metadata": {},
   "source": [
    "The Rehden gas storage facility in Germany became a symbol of the country's reliance on Russian gas following the Russian invasion of Ukraine in February 2022. After the winter of 2021/2022, Gazprom, the operator, left the storage at below 5% capacity by early April 2022. Observers suggested that this was part of Vladimir Putin's plan to pressure Germany.\n",
    "\n",
    "In response, the German Federal Ministry for Economic Affairs and Climate Action placed Gazprom Germania under the trusteeship of the Federal Network Agency. To stabilize the gas supply chain, the government introduced the Gas Storage Law and new regulations to ensure storage targets were met. Although Rehden fell short of its 95% target for November 2022, it reached 99.3% by November 2023."
   ]
  }
 ],
 "metadata": {
  "kernelspec": {
   "display_name": "Python 3 (ipykernel)",
   "language": "python",
   "name": "python3"
  },
  "language_info": {
   "codemirror_mode": {
    "name": "ipython",
    "version": 3
   },
   "file_extension": ".py",
   "mimetype": "text/x-python",
   "name": "python",
   "nbconvert_exporter": "python",
   "pygments_lexer": "ipython3",
   "version": "3.11.7"
  }
 },
 "nbformat": 4,
 "nbformat_minor": 5
}
